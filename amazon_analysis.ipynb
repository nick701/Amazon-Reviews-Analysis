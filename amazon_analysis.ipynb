{
 "cells": [
  {
   "cell_type": "markdown",
   "metadata": {},
   "source": [
    "# Analysis of Amazon Reviews\n",
    "\n",
    "By: Nick Tiliakos"
   ]
  },
  {
   "cell_type": "code",
   "execution_count": 12,
   "metadata": {},
   "outputs": [],
   "source": [
    "import numpy as np\n",
    "import pandas as pd\n",
    "import matplotlib.pyplot as plt\n",
    "import seaborn as sns\n",
    "import plotly.express as px"
   ]
  },
  {
   "cell_type": "code",
   "execution_count": 13,
   "metadata": {},
   "outputs": [],
   "source": [
    "data = pd.read_csv('amazon_reviews.csv')\n",
    "df_pre = pd.DataFrame(data)"
   ]
  },
  {
   "cell_type": "markdown",
   "metadata": {},
   "source": [
    "### Data Cleaning"
   ]
  },
  {
   "cell_type": "code",
   "execution_count": 14,
   "metadata": {},
   "outputs": [
    {
     "name": "stdout",
     "output_type": "stream",
     "text": [
      "                               reviewId          userName  \\\n",
      "0  d6416c16-c1eb-4b56-920f-77ef07b2d8cb  Sergio Hernandez   \n",
      "\n",
      "                   content  score  thumbsUpCount reviewCreatedVersion  \\\n",
      "0  Bueneishon apliqueishon      5              0          26.17.2.100   \n",
      "\n",
      "                    at   appVersion  \n",
      "0  2024-05-09 15:51:12  26.17.2.100  \n"
     ]
    }
   ],
   "source": [
    "print(df_pre.head(n=1))"
   ]
  },
  {
   "cell_type": "code",
   "execution_count": 15,
   "metadata": {},
   "outputs": [
    {
     "data": {
      "text/html": [
       "<div>\n",
       "<style scoped>\n",
       "    .dataframe tbody tr th:only-of-type {\n",
       "        vertical-align: middle;\n",
       "    }\n",
       "\n",
       "    .dataframe tbody tr th {\n",
       "        vertical-align: top;\n",
       "    }\n",
       "\n",
       "    .dataframe thead th {\n",
       "        text-align: right;\n",
       "    }\n",
       "</style>\n",
       "<table border=\"1\" class=\"dataframe\">\n",
       "  <thead>\n",
       "    <tr style=\"text-align: right;\">\n",
       "      <th></th>\n",
       "      <th>score</th>\n",
       "      <th>thumbsUpCount</th>\n",
       "    </tr>\n",
       "  </thead>\n",
       "  <tbody>\n",
       "    <tr>\n",
       "      <th>count</th>\n",
       "      <td>50213.000000</td>\n",
       "      <td>50213.000000</td>\n",
       "    </tr>\n",
       "    <tr>\n",
       "      <th>mean</th>\n",
       "      <td>2.410790</td>\n",
       "      <td>13.748173</td>\n",
       "    </tr>\n",
       "    <tr>\n",
       "      <th>std</th>\n",
       "      <td>1.637335</td>\n",
       "      <td>85.970094</td>\n",
       "    </tr>\n",
       "    <tr>\n",
       "      <th>min</th>\n",
       "      <td>1.000000</td>\n",
       "      <td>0.000000</td>\n",
       "    </tr>\n",
       "    <tr>\n",
       "      <th>25%</th>\n",
       "      <td>1.000000</td>\n",
       "      <td>0.000000</td>\n",
       "    </tr>\n",
       "    <tr>\n",
       "      <th>50%</th>\n",
       "      <td>2.000000</td>\n",
       "      <td>1.000000</td>\n",
       "    </tr>\n",
       "    <tr>\n",
       "      <th>75%</th>\n",
       "      <td>4.000000</td>\n",
       "      <td>3.000000</td>\n",
       "    </tr>\n",
       "    <tr>\n",
       "      <th>max</th>\n",
       "      <td>5.000000</td>\n",
       "      <td>5660.000000</td>\n",
       "    </tr>\n",
       "  </tbody>\n",
       "</table>\n",
       "</div>"
      ],
      "text/plain": [
       "              score  thumbsUpCount\n",
       "count  50213.000000   50213.000000\n",
       "mean       2.410790      13.748173\n",
       "std        1.637335      85.970094\n",
       "min        1.000000       0.000000\n",
       "25%        1.000000       0.000000\n",
       "50%        2.000000       1.000000\n",
       "75%        4.000000       3.000000\n",
       "max        5.000000    5660.000000"
      ]
     },
     "execution_count": 15,
     "metadata": {},
     "output_type": "execute_result"
    }
   ],
   "source": [
    "df_pre.describe()"
   ]
  },
  {
   "cell_type": "code",
   "execution_count": 18,
   "metadata": {},
   "outputs": [
    {
     "name": "stdout",
     "output_type": "stream",
     "text": [
      "<bound method DataFrame.info of                                    reviewId          userName  \\\n",
      "0      d6416c16-c1eb-4b56-920f-77ef07b2d8cb  Sergio Hernandez   \n",
      "1      ab0cba1f-115a-4dee-bece-9cd3a56fbf95         LIZ IRVIN   \n",
      "2      0721b206-cbf3-48b9-a17a-c5134320450b      Linda Walker   \n",
      "3      f5b7f65c-186a-4c6f-8ab2-9b1602d09e8c       Diane Brown   \n",
      "4      3096c174-6015-4984-b764-42e3751c5014      Keith Graham   \n",
      "...                                     ...               ...   \n",
      "50208  ac82191a-e776-42a0-8e30-91eabb763968         Mary Mora   \n",
      "50209  3aa6af38-b044-4257-9cf3-b94c437da0ef     Marie Elliott   \n",
      "50210  727ec38a-c633-48f4-a302-66e52740a43c       Dan Preston   \n",
      "50211  615a9643-cd36-4010-9a81-8763bac11ddf             Jhosh   \n",
      "50212  6b818e48-406b-4b9d-88c6-759152019a96  Christopher Read   \n",
      "\n",
      "                                                 content  score  \\\n",
      "0                                Bueneishon apliqueishon      5   \n",
      "1                                                  great      5   \n",
      "2      My experience with Amazon is the best their is...      5   \n",
      "3      Good for checking orders and if you know what ...      3   \n",
      "4                                       Keeps locking up      1   \n",
      "...                                                  ...    ...   \n",
      "50208  Amazon Smile donates. Make sure you get all se...      5   \n",
      "50209  After having problems with the app and having ...      5   \n",
      "50210  Used to be great. Got greedy, they ruined the ...      1   \n",
      "50211  New search bar location sucks. At least give m...      2   \n",
      "50212  for me personally I use Amazon prime due to be...      5   \n",
      "\n",
      "       thumbsUpCount reviewCreatedVersion                   at   appVersion  \n",
      "0                  0          26.17.2.100  2024-05-09 15:51:12  26.17.2.100  \n",
      "1                  0           28.9.2.100  2024-05-09 15:49:41   28.9.2.100  \n",
      "2                  0           28.9.2.100  2024-05-09 15:45:02   28.9.2.100  \n",
      "3                  0           28.9.2.100  2024-05-09 15:16:37   28.9.2.100  \n",
      "4                  0           28.9.2.100  2024-05-09 14:42:32   28.9.2.100  \n",
      "...              ...                  ...                  ...          ...  \n",
      "50208              0           26.1.2.100  2023-01-16 06:12:14   26.1.2.100  \n",
      "50209              1          22.18.0.100  2021-09-24 12:01:29  22.18.0.100  \n",
      "50210              0           26.9.0.100  2023-05-15 18:27:24   26.9.0.100  \n",
      "50211              0          26.12.0.100  2023-06-11 15:24:08  26.12.0.100  \n",
      "50212              0           24.9.0.100  2022-05-08 17:59:37   24.9.0.100  \n",
      "\n",
      "[50213 rows x 8 columns]>\n"
     ]
    }
   ],
   "source": [
    "print(df_pre.info)"
   ]
  },
  {
   "cell_type": "code",
   "execution_count": 19,
   "metadata": {},
   "outputs": [
    {
     "name": "stdout",
     "output_type": "stream",
     "text": [
      "reviewId                   0\n",
      "userName                   5\n",
      "content                    0\n",
      "score                      0\n",
      "thumbsUpCount              0\n",
      "reviewCreatedVersion    4805\n",
      "at                         0\n",
      "appVersion              4805\n",
      "dtype: int64\n"
     ]
    }
   ],
   "source": [
    "print(df_pre.isnull().sum())"
   ]
  },
  {
   "cell_type": "code",
   "execution_count": 21,
   "metadata": {},
   "outputs": [
    {
     "name": "stdout",
     "output_type": "stream",
     "text": [
      "reviewId                0\n",
      "userName                0\n",
      "content                 0\n",
      "score                   0\n",
      "thumbsUpCount           0\n",
      "reviewCreatedVersion    0\n",
      "at                      0\n",
      "appVersion              0\n",
      "dtype: int64\n"
     ]
    }
   ],
   "source": [
    "df = df_pre.dropna()\n",
    "\n",
    "print(df.isnull().sum())"
   ]
  },
  {
   "cell_type": "code",
   "execution_count": 22,
   "metadata": {},
   "outputs": [
    {
     "data": {
      "text/plain": [
       "reviewId                object\n",
       "userName                object\n",
       "content                 object\n",
       "score                    int64\n",
       "thumbsUpCount            int64\n",
       "reviewCreatedVersion    object\n",
       "at                      object\n",
       "appVersion              object\n",
       "dtype: object"
      ]
     },
     "execution_count": 22,
     "metadata": {},
     "output_type": "execute_result"
    }
   ],
   "source": [
    "df.dtypes"
   ]
  },
  {
   "cell_type": "code",
   "execution_count": null,
   "metadata": {},
   "outputs": [],
   "source": []
  }
 ],
 "metadata": {
  "kernelspec": {
   "display_name": "Python 3",
   "language": "python",
   "name": "python3"
  },
  "language_info": {
   "codemirror_mode": {
    "name": "ipython",
    "version": 3
   },
   "file_extension": ".py",
   "mimetype": "text/x-python",
   "name": "python",
   "nbconvert_exporter": "python",
   "pygments_lexer": "ipython3",
   "version": "3.8.5"
  }
 },
 "nbformat": 4,
 "nbformat_minor": 2
}
